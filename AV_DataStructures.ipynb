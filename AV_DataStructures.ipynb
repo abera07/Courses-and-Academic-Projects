{
  "nbformat": 4,
  "nbformat_minor": 0,
  "metadata": {
    "colab": {
      "name": "AV_DataStructures.ipynb",
      "provenance": []
    },
    "kernelspec": {
      "name": "python3",
      "display_name": "Python 3"
    },
    "language_info": {
      "name": "python"
    }
  },
  "cells": [
    {
      "cell_type": "markdown",
      "metadata": {
        "id": "mZNMjkJI0JT5"
      },
      "source": [
        "### Problem:\n",
        "\n",
        "> Analytics Vidhya conducted an assessment test to hire a Data Scientist. The\n",
        "candidates were evaluated on 5 different subjects A, B, C, D, and E. The marks of\n",
        "5 different subjects out of 100 are given below."
      ]
    },
    {
      "cell_type": "markdown",
      "metadata": {
        "id": "vppZmcEn0glT"
      },
      "source": [
        "### Questions:\n",
        "\n",
        "> 🙇 Who scored the highest marks in the subject B?\n",
        "\n",
        "> 🙇 What is the average marks scored in the subject C?\n",
        "\n",
        "> 🙇 Who scored the highest percentage of marks?\n",
        "\n",
        "> 🙇 If considered only top-4 subjects of a candidate, then who scored the highest\n",
        "percentage of marks?\n",
        "\n"
      ]
    },
    {
      "cell_type": "code",
      "metadata": {
        "id": "BDgQSRch1fAf"
      },
      "source": [
        "#student marks\n",
        "\n",
        "marks=[['Name',\n",
        "\n",
        "['A', 'B', 'C','D', 'E']],\n",
        "\n",
        "['Ankit', [41, 34, 45, 55, 63]],\n",
        "\n",
        "['Aravind', [42, 23, 34, 44, 53]],\n",
        "\n",
        "['Lakshay', [32, 23, 13, 54, 67]],\n",
        "\n",
        "['Gyan', [23, 82, 23, 63, 34]],\n",
        "\n",
        "['Pranav', [21, 23, 25, 56, 56]]]"
      ],
      "execution_count": 1,
      "outputs": []
    },
    {
      "cell_type": "code",
      "metadata": {
        "colab": {
          "base_uri": "https://localhost:8080/"
        },
        "id": "7P7sY2A-12j4",
        "outputId": "7b4888c0-ef61-425a-f3c5-aba1b3259d0f"
      },
      "source": [
        "#Highest marks in subject B\n",
        "max=marks[1][1][1]\n",
        "for i in range(1,6):\n",
        "  if (int(marks[i][1][1])>max):\n",
        "    max=marks[i][1][1]\n",
        "    name=marks[i][0]\n",
        "print(f\"Highest in subject B:{max}, by: {name}\")"
      ],
      "execution_count": 2,
      "outputs": [
        {
          "output_type": "stream",
          "name": "stdout",
          "text": [
            "Highest in subject B:82, by: Gyan\n"
          ]
        }
      ]
    },
    {
      "cell_type": "code",
      "metadata": {
        "colab": {
          "base_uri": "https://localhost:8080/"
        },
        "id": "4qbGh0J22mWg",
        "outputId": "d1c3808c-05a2-4ac6-9418-ecf61bbc938a"
      },
      "source": [
        "#Average score of C\n",
        "avg=0.0\n",
        "c=0\n",
        "for i in range(1,6):\n",
        "  avg+=int(marks[i][1][2])\n",
        "  c+=1\n",
        "\n",
        "avg=avg/c\n",
        "\n",
        "print(f\"The average marks of subject C is:{avg}\")"
      ],
      "execution_count": 3,
      "outputs": [
        {
          "output_type": "stream",
          "name": "stdout",
          "text": [
            "The average marks of subject C is:28.0\n"
          ]
        }
      ]
    },
    {
      "cell_type": "code",
      "metadata": {
        "id": "Epav9cha3vYK"
      },
      "source": [
        "#Highest percentage of marks scored by student\n",
        "per={}\n",
        "\n",
        "for i in range(1,6):\n",
        "  sum=0\n",
        "  for j in marks[i][1]:\n",
        "    sum+=j\n",
        "  \n",
        "  per[(marks[i][0])]=(sum/500)*100.0\n"
      ],
      "execution_count": 4,
      "outputs": []
    },
    {
      "cell_type": "code",
      "metadata": {
        "colab": {
          "base_uri": "https://localhost:8080/"
        },
        "id": "aJrEFuyB4-vf",
        "outputId": "d7ed0bfe-757f-4bae-ccf7-1b2719ef7906"
      },
      "source": [
        "per"
      ],
      "execution_count": 5,
      "outputs": [
        {
          "output_type": "execute_result",
          "data": {
            "text/plain": [
              "{'Ankit': 47.599999999999994,\n",
              " 'Aravind': 39.2,\n",
              " 'Gyan': 45.0,\n",
              " 'Lakshay': 37.8,\n",
              " 'Pranav': 36.199999999999996}"
            ]
          },
          "metadata": {},
          "execution_count": 5
        }
      ]
    },
    {
      "cell_type": "code",
      "metadata": {
        "colab": {
          "base_uri": "https://localhost:8080/"
        },
        "id": "xUJpACB_4uZx",
        "outputId": "55fb7450-0b40-4db9-a82c-79be1a57cf27"
      },
      "source": [
        "print(\"Highest percentage of marks by:\",sorted(per.items())[0])"
      ],
      "execution_count": 6,
      "outputs": [
        {
          "output_type": "stream",
          "name": "stdout",
          "text": [
            "Highest percentage of marks by: ('Ankit', 47.599999999999994)\n"
          ]
        }
      ]
    },
    {
      "cell_type": "code",
      "metadata": {
        "colab": {
          "base_uri": "https://localhost:8080/"
        },
        "id": "VZMeAx5F4v1w",
        "outputId": "cff19018-9ec9-48ae-9f4f-3cc5f4513e80"
      },
      "source": [
        "#The highest percentage of marks of only 4 subjects\n",
        "per={}\n",
        "\n",
        "for i in range(1,6):\n",
        "  sum=0\n",
        "  marks[i][1]=sorted(marks[i][1],reverse=True)\n",
        "  print(marks[i][1])\n",
        "  for j in range(len(marks[i][1])-1):\n",
        "    sum+=marks[i][1][j]\n",
        "\n",
        "  per[(marks[i][0])]=(sum/400)*100.0\n",
        "print(per)\n",
        "print(\"Highest percentage of marks by:\",sorted(per.items())[0])"
      ],
      "execution_count": 7,
      "outputs": [
        {
          "output_type": "stream",
          "name": "stdout",
          "text": [
            "[63, 55, 45, 41, 34]\n",
            "[53, 44, 42, 34, 23]\n",
            "[67, 54, 32, 23, 13]\n",
            "[82, 63, 34, 23, 23]\n",
            "[56, 56, 25, 23, 21]\n",
            "{'Ankit': 51.0, 'Aravind': 43.25, 'Lakshay': 44.0, 'Gyan': 50.5, 'Pranav': 40.0}\n",
            "Highest percentage of marks by: ('Ankit', 51.0)\n"
          ]
        }
      ]
    }
  ]
}