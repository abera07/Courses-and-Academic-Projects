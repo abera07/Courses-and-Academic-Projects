{
  "nbformat": 4,
  "nbformat_minor": 0,
  "metadata": {
    "colab": {
      "name": "Loan_Prediction_using_Keras.ipynb",
      "provenance": []
    },
    "kernelspec": {
      "name": "python3",
      "display_name": "Python 3"
    }
  },
  "cells": [
    {
      "cell_type": "code",
      "metadata": {
        "id": "sQ6pGbYq6-tJ"
      },
      "source": [
        "import pandas as pd\r\n",
        "df=pd.read_csv('loan_data.csv')"
      ],
      "execution_count": 3,
      "outputs": []
    },
    {
      "cell_type": "code",
      "metadata": {
        "colab": {
          "base_uri": "https://localhost:8080/",
          "height": 239
        },
        "id": "JbPwZf3-7pmh",
        "outputId": "f69de1ef-43c4-4bfe-c3eb-45bc10ec2835"
      },
      "source": [
        "df.head()"
      ],
      "execution_count": 4,
      "outputs": [
        {
          "output_type": "execute_result",
          "data": {
            "text/html": [
              "<div>\n",
              "<style scoped>\n",
              "    .dataframe tbody tr th:only-of-type {\n",
              "        vertical-align: middle;\n",
              "    }\n",
              "\n",
              "    .dataframe tbody tr th {\n",
              "        vertical-align: top;\n",
              "    }\n",
              "\n",
              "    .dataframe thead th {\n",
              "        text-align: right;\n",
              "    }\n",
              "</style>\n",
              "<table border=\"1\" class=\"dataframe\">\n",
              "  <thead>\n",
              "    <tr style=\"text-align: right;\">\n",
              "      <th></th>\n",
              "      <th>Loan_ID</th>\n",
              "      <th>Gender</th>\n",
              "      <th>Married</th>\n",
              "      <th>Dependents</th>\n",
              "      <th>Education</th>\n",
              "      <th>Self_Employed</th>\n",
              "      <th>ApplicantIncome</th>\n",
              "      <th>CoapplicantIncome</th>\n",
              "      <th>LoanAmount</th>\n",
              "      <th>Loan_Amount_Term</th>\n",
              "      <th>Credit_History</th>\n",
              "      <th>Property_Area</th>\n",
              "      <th>Loan_Status</th>\n",
              "    </tr>\n",
              "  </thead>\n",
              "  <tbody>\n",
              "    <tr>\n",
              "      <th>0</th>\n",
              "      <td>LP001002</td>\n",
              "      <td>Male</td>\n",
              "      <td>No</td>\n",
              "      <td>0</td>\n",
              "      <td>Graduate</td>\n",
              "      <td>No</td>\n",
              "      <td>5849</td>\n",
              "      <td>0.0</td>\n",
              "      <td>NaN</td>\n",
              "      <td>360.0</td>\n",
              "      <td>1.0</td>\n",
              "      <td>Urban</td>\n",
              "      <td>Y</td>\n",
              "    </tr>\n",
              "    <tr>\n",
              "      <th>1</th>\n",
              "      <td>LP001003</td>\n",
              "      <td>Male</td>\n",
              "      <td>Yes</td>\n",
              "      <td>1</td>\n",
              "      <td>Graduate</td>\n",
              "      <td>No</td>\n",
              "      <td>4583</td>\n",
              "      <td>1508.0</td>\n",
              "      <td>128.0</td>\n",
              "      <td>360.0</td>\n",
              "      <td>1.0</td>\n",
              "      <td>Rural</td>\n",
              "      <td>N</td>\n",
              "    </tr>\n",
              "    <tr>\n",
              "      <th>2</th>\n",
              "      <td>LP001005</td>\n",
              "      <td>Male</td>\n",
              "      <td>Yes</td>\n",
              "      <td>0</td>\n",
              "      <td>Graduate</td>\n",
              "      <td>Yes</td>\n",
              "      <td>3000</td>\n",
              "      <td>0.0</td>\n",
              "      <td>66.0</td>\n",
              "      <td>360.0</td>\n",
              "      <td>1.0</td>\n",
              "      <td>Urban</td>\n",
              "      <td>Y</td>\n",
              "    </tr>\n",
              "    <tr>\n",
              "      <th>3</th>\n",
              "      <td>LP001006</td>\n",
              "      <td>Male</td>\n",
              "      <td>Yes</td>\n",
              "      <td>0</td>\n",
              "      <td>Not Graduate</td>\n",
              "      <td>No</td>\n",
              "      <td>2583</td>\n",
              "      <td>2358.0</td>\n",
              "      <td>120.0</td>\n",
              "      <td>360.0</td>\n",
              "      <td>1.0</td>\n",
              "      <td>Urban</td>\n",
              "      <td>Y</td>\n",
              "    </tr>\n",
              "    <tr>\n",
              "      <th>4</th>\n",
              "      <td>LP001008</td>\n",
              "      <td>Male</td>\n",
              "      <td>No</td>\n",
              "      <td>0</td>\n",
              "      <td>Graduate</td>\n",
              "      <td>No</td>\n",
              "      <td>6000</td>\n",
              "      <td>0.0</td>\n",
              "      <td>141.0</td>\n",
              "      <td>360.0</td>\n",
              "      <td>1.0</td>\n",
              "      <td>Urban</td>\n",
              "      <td>Y</td>\n",
              "    </tr>\n",
              "  </tbody>\n",
              "</table>\n",
              "</div>"
            ],
            "text/plain": [
              "    Loan_ID Gender Married  ... Credit_History Property_Area Loan_Status\n",
              "0  LP001002   Male      No  ...            1.0         Urban           Y\n",
              "1  LP001003   Male     Yes  ...            1.0         Rural           N\n",
              "2  LP001005   Male     Yes  ...            1.0         Urban           Y\n",
              "3  LP001006   Male     Yes  ...            1.0         Urban           Y\n",
              "4  LP001008   Male      No  ...            1.0         Urban           Y\n",
              "\n",
              "[5 rows x 13 columns]"
            ]
          },
          "metadata": {
            "tags": []
          },
          "execution_count": 4
        }
      ]
    },
    {
      "cell_type": "markdown",
      "metadata": {
        "id": "dFTIQQpn_tUK"
      },
      "source": [
        "### **Finding missing values and Feature Engineering**"
      ]
    },
    {
      "cell_type": "code",
      "metadata": {
        "colab": {
          "base_uri": "https://localhost:8080/"
        },
        "id": "oyxCo67h7rDr",
        "outputId": "296d2e21-fd1d-4458-89d9-f41ca465ce9e"
      },
      "source": [
        "df.isnull().sum()"
      ],
      "execution_count": 5,
      "outputs": [
        {
          "output_type": "execute_result",
          "data": {
            "text/plain": [
              "Loan_ID               0\n",
              "Gender               13\n",
              "Married               3\n",
              "Dependents           15\n",
              "Education             0\n",
              "Self_Employed        32\n",
              "ApplicantIncome       0\n",
              "CoapplicantIncome     0\n",
              "LoanAmount           22\n",
              "Loan_Amount_Term     14\n",
              "Credit_History       50\n",
              "Property_Area         0\n",
              "Loan_Status           0\n",
              "dtype: int64"
            ]
          },
          "metadata": {
            "tags": []
          },
          "execution_count": 5
        }
      ]
    },
    {
      "cell_type": "markdown",
      "metadata": {
        "id": "YHxHnLslAYOe"
      },
      "source": [
        "Filling categorical values with the mode of the respective columns\r\n"
      ]
    },
    {
      "cell_type": "code",
      "metadata": {
        "id": "gbXuu5mS7tVv"
      },
      "source": [
        "df[\"Gender\"].fillna(df[\"Gender\"].mode()[0],inplace=True)\r\n",
        "df[\"Loan_Amount_Term\"].fillna(df[\"Loan_Amount_Term\"].mode()[0],inplace=True)"
      ],
      "execution_count": 6,
      "outputs": []
    },
    {
      "cell_type": "code",
      "metadata": {
        "id": "vk8AKzcs9CLf"
      },
      "source": [
        "df[\"Married\"].fillna(df[\"Married\"].mode()[0], inplace=True)\r\n",
        "df[\"Dependents\"].fillna(df[\"Dependents\"].mode()[0], inplace=True)\r\n",
        "df[\"Self_Employed\"].fillna(df[\"Self_Employed\"].mode()[0], inplace=True)\r\n",
        "df[\"Credit_History\"].fillna(df[\"Credit_History\"].mode()[0], inplace=True)"
      ],
      "execution_count": 7,
      "outputs": []
    },
    {
      "cell_type": "markdown",
      "metadata": {
        "id": "5joxjQ9_Ame6"
      },
      "source": [
        "Filling continous values with the mean\r\n"
      ]
    },
    {
      "cell_type": "code",
      "metadata": {
        "id": "Oqe1OLB2ASel"
      },
      "source": [
        "df[\"LoanAmount\"].fillna(df[\"LoanAmount\"].mean(),inplace=True)"
      ],
      "execution_count": 8,
      "outputs": []
    },
    {
      "cell_type": "code",
      "metadata": {
        "colab": {
          "base_uri": "https://localhost:8080/"
        },
        "id": "TLq-7klxBai_",
        "outputId": "9eb9edf8-b464-4436-f9dc-773ebf78140b"
      },
      "source": [
        "df.isnull().sum()"
      ],
      "execution_count": 9,
      "outputs": [
        {
          "output_type": "execute_result",
          "data": {
            "text/plain": [
              "Loan_ID              0\n",
              "Gender               0\n",
              "Married              0\n",
              "Dependents           0\n",
              "Education            0\n",
              "Self_Employed        0\n",
              "ApplicantIncome      0\n",
              "CoapplicantIncome    0\n",
              "LoanAmount           0\n",
              "Loan_Amount_Term     0\n",
              "Credit_History       0\n",
              "Property_Area        0\n",
              "Loan_Status          0\n",
              "dtype: int64"
            ]
          },
          "metadata": {
            "tags": []
          },
          "execution_count": 9
        }
      ]
    },
    {
      "cell_type": "markdown",
      "metadata": {
        "id": "AQg1VfMAxybs"
      },
      "source": [
        "Filling categorical columns with numerical values"
      ]
    },
    {
      "cell_type": "code",
      "metadata": {
        "id": "9Zcr94g3jwzS"
      },
      "source": [
        "from sklearn.preprocessing import LabelEncoder\r\n",
        "le=LabelEncoder()\r\n",
        "df[\"Gender\"]=le.fit_transform(df[\"Gender\"])\r\n",
        "df[\"Married\"]=le.fit_transform(df[\"Married\"])\r\n",
        "df[\"Self_Employed\"]=le.fit_transform(df[\"Self_Employed\"])\r\n",
        "df[\"Property_Area\"]=le.fit_transform(df[\"Property_Area\"])\r\n",
        "df[\"Loan_Status\"]=le.fit_transform(df[\"Loan_Status\"])\r\n",
        "df[\"Dependents\"]=le.fit_transform(df[\"Dependents\"])\r\n",
        "df[\"Education\"]=le.fit_transform(df[\"Education\"])"
      ],
      "execution_count": 10,
      "outputs": []
    },
    {
      "cell_type": "code",
      "metadata": {
        "colab": {
          "base_uri": "https://localhost:8080/",
          "height": 222
        },
        "id": "jY0cAhC-wkYB",
        "outputId": "4272f6e1-0971-4720-f8fa-e34404095943"
      },
      "source": [
        "df.head()"
      ],
      "execution_count": 11,
      "outputs": [
        {
          "output_type": "execute_result",
          "data": {
            "text/html": [
              "<div>\n",
              "<style scoped>\n",
              "    .dataframe tbody tr th:only-of-type {\n",
              "        vertical-align: middle;\n",
              "    }\n",
              "\n",
              "    .dataframe tbody tr th {\n",
              "        vertical-align: top;\n",
              "    }\n",
              "\n",
              "    .dataframe thead th {\n",
              "        text-align: right;\n",
              "    }\n",
              "</style>\n",
              "<table border=\"1\" class=\"dataframe\">\n",
              "  <thead>\n",
              "    <tr style=\"text-align: right;\">\n",
              "      <th></th>\n",
              "      <th>Loan_ID</th>\n",
              "      <th>Gender</th>\n",
              "      <th>Married</th>\n",
              "      <th>Dependents</th>\n",
              "      <th>Education</th>\n",
              "      <th>Self_Employed</th>\n",
              "      <th>ApplicantIncome</th>\n",
              "      <th>CoapplicantIncome</th>\n",
              "      <th>LoanAmount</th>\n",
              "      <th>Loan_Amount_Term</th>\n",
              "      <th>Credit_History</th>\n",
              "      <th>Property_Area</th>\n",
              "      <th>Loan_Status</th>\n",
              "    </tr>\n",
              "  </thead>\n",
              "  <tbody>\n",
              "    <tr>\n",
              "      <th>0</th>\n",
              "      <td>LP001002</td>\n",
              "      <td>1</td>\n",
              "      <td>0</td>\n",
              "      <td>0</td>\n",
              "      <td>0</td>\n",
              "      <td>0</td>\n",
              "      <td>5849</td>\n",
              "      <td>0.0</td>\n",
              "      <td>146.412162</td>\n",
              "      <td>360.0</td>\n",
              "      <td>1.0</td>\n",
              "      <td>2</td>\n",
              "      <td>1</td>\n",
              "    </tr>\n",
              "    <tr>\n",
              "      <th>1</th>\n",
              "      <td>LP001003</td>\n",
              "      <td>1</td>\n",
              "      <td>1</td>\n",
              "      <td>1</td>\n",
              "      <td>0</td>\n",
              "      <td>0</td>\n",
              "      <td>4583</td>\n",
              "      <td>1508.0</td>\n",
              "      <td>128.000000</td>\n",
              "      <td>360.0</td>\n",
              "      <td>1.0</td>\n",
              "      <td>0</td>\n",
              "      <td>0</td>\n",
              "    </tr>\n",
              "    <tr>\n",
              "      <th>2</th>\n",
              "      <td>LP001005</td>\n",
              "      <td>1</td>\n",
              "      <td>1</td>\n",
              "      <td>0</td>\n",
              "      <td>0</td>\n",
              "      <td>1</td>\n",
              "      <td>3000</td>\n",
              "      <td>0.0</td>\n",
              "      <td>66.000000</td>\n",
              "      <td>360.0</td>\n",
              "      <td>1.0</td>\n",
              "      <td>2</td>\n",
              "      <td>1</td>\n",
              "    </tr>\n",
              "    <tr>\n",
              "      <th>3</th>\n",
              "      <td>LP001006</td>\n",
              "      <td>1</td>\n",
              "      <td>1</td>\n",
              "      <td>0</td>\n",
              "      <td>1</td>\n",
              "      <td>0</td>\n",
              "      <td>2583</td>\n",
              "      <td>2358.0</td>\n",
              "      <td>120.000000</td>\n",
              "      <td>360.0</td>\n",
              "      <td>1.0</td>\n",
              "      <td>2</td>\n",
              "      <td>1</td>\n",
              "    </tr>\n",
              "    <tr>\n",
              "      <th>4</th>\n",
              "      <td>LP001008</td>\n",
              "      <td>1</td>\n",
              "      <td>0</td>\n",
              "      <td>0</td>\n",
              "      <td>0</td>\n",
              "      <td>0</td>\n",
              "      <td>6000</td>\n",
              "      <td>0.0</td>\n",
              "      <td>141.000000</td>\n",
              "      <td>360.0</td>\n",
              "      <td>1.0</td>\n",
              "      <td>2</td>\n",
              "      <td>1</td>\n",
              "    </tr>\n",
              "  </tbody>\n",
              "</table>\n",
              "</div>"
            ],
            "text/plain": [
              "    Loan_ID  Gender  Married  ...  Credit_History  Property_Area  Loan_Status\n",
              "0  LP001002       1        0  ...             1.0              2            1\n",
              "1  LP001003       1        1  ...             1.0              0            0\n",
              "2  LP001005       1        1  ...             1.0              2            1\n",
              "3  LP001006       1        1  ...             1.0              2            1\n",
              "4  LP001008       1        0  ...             1.0              2            1\n",
              "\n",
              "[5 rows x 13 columns]"
            ]
          },
          "metadata": {
            "tags": []
          },
          "execution_count": 11
        }
      ]
    },
    {
      "cell_type": "code",
      "metadata": {
        "id": "iSu_Pvv_w343"
      },
      "source": [
        "from sklearn.preprocessing import MinMaxScaler\r\n",
        "mm_scaler=MinMaxScaler()"
      ],
      "execution_count": 12,
      "outputs": []
    },
    {
      "cell_type": "code",
      "metadata": {
        "id": "wIMzcVyt-KAj"
      },
      "source": [
        "df=df.drop(\"Loan_ID\",axis=1)"
      ],
      "execution_count": 13,
      "outputs": []
    },
    {
      "cell_type": "code",
      "metadata": {
        "colab": {
          "base_uri": "https://localhost:8080/"
        },
        "id": "PS04BLRLyTmA",
        "outputId": "1f8d469c-b933-4710-aa75-b4f0520281b4"
      },
      "source": [
        "mm_scaler.fit_transform(df)"
      ],
      "execution_count": 14,
      "outputs": [
        {
          "output_type": "execute_result",
          "data": {
            "text/plain": [
              "array([[1.        , 0.        , 0.        , ..., 1.        , 1.        ,\n",
              "        1.        ],\n",
              "       [1.        , 1.        , 0.33333333, ..., 1.        , 0.        ,\n",
              "        0.        ],\n",
              "       [1.        , 1.        , 0.        , ..., 1.        , 1.        ,\n",
              "        1.        ],\n",
              "       ...,\n",
              "       [1.        , 1.        , 0.33333333, ..., 1.        , 1.        ,\n",
              "        1.        ],\n",
              "       [1.        , 1.        , 0.66666667, ..., 1.        , 1.        ,\n",
              "        1.        ],\n",
              "       [0.        , 0.        , 0.        , ..., 0.        , 0.5       ,\n",
              "        0.        ]])"
            ]
          },
          "metadata": {
            "tags": []
          },
          "execution_count": 14
        }
      ]
    },
    {
      "cell_type": "code",
      "metadata": {
        "colab": {
          "base_uri": "https://localhost:8080/",
          "height": 222
        },
        "id": "opb-m8e0zWh4",
        "outputId": "2f920c7e-2d92-4339-bf95-d4b649fd19cf"
      },
      "source": [
        "df.head()"
      ],
      "execution_count": 15,
      "outputs": [
        {
          "output_type": "execute_result",
          "data": {
            "text/html": [
              "<div>\n",
              "<style scoped>\n",
              "    .dataframe tbody tr th:only-of-type {\n",
              "        vertical-align: middle;\n",
              "    }\n",
              "\n",
              "    .dataframe tbody tr th {\n",
              "        vertical-align: top;\n",
              "    }\n",
              "\n",
              "    .dataframe thead th {\n",
              "        text-align: right;\n",
              "    }\n",
              "</style>\n",
              "<table border=\"1\" class=\"dataframe\">\n",
              "  <thead>\n",
              "    <tr style=\"text-align: right;\">\n",
              "      <th></th>\n",
              "      <th>Gender</th>\n",
              "      <th>Married</th>\n",
              "      <th>Dependents</th>\n",
              "      <th>Education</th>\n",
              "      <th>Self_Employed</th>\n",
              "      <th>ApplicantIncome</th>\n",
              "      <th>CoapplicantIncome</th>\n",
              "      <th>LoanAmount</th>\n",
              "      <th>Loan_Amount_Term</th>\n",
              "      <th>Credit_History</th>\n",
              "      <th>Property_Area</th>\n",
              "      <th>Loan_Status</th>\n",
              "    </tr>\n",
              "  </thead>\n",
              "  <tbody>\n",
              "    <tr>\n",
              "      <th>0</th>\n",
              "      <td>1</td>\n",
              "      <td>0</td>\n",
              "      <td>0</td>\n",
              "      <td>0</td>\n",
              "      <td>0</td>\n",
              "      <td>5849</td>\n",
              "      <td>0.0</td>\n",
              "      <td>146.412162</td>\n",
              "      <td>360.0</td>\n",
              "      <td>1.0</td>\n",
              "      <td>2</td>\n",
              "      <td>1</td>\n",
              "    </tr>\n",
              "    <tr>\n",
              "      <th>1</th>\n",
              "      <td>1</td>\n",
              "      <td>1</td>\n",
              "      <td>1</td>\n",
              "      <td>0</td>\n",
              "      <td>0</td>\n",
              "      <td>4583</td>\n",
              "      <td>1508.0</td>\n",
              "      <td>128.000000</td>\n",
              "      <td>360.0</td>\n",
              "      <td>1.0</td>\n",
              "      <td>0</td>\n",
              "      <td>0</td>\n",
              "    </tr>\n",
              "    <tr>\n",
              "      <th>2</th>\n",
              "      <td>1</td>\n",
              "      <td>1</td>\n",
              "      <td>0</td>\n",
              "      <td>0</td>\n",
              "      <td>1</td>\n",
              "      <td>3000</td>\n",
              "      <td>0.0</td>\n",
              "      <td>66.000000</td>\n",
              "      <td>360.0</td>\n",
              "      <td>1.0</td>\n",
              "      <td>2</td>\n",
              "      <td>1</td>\n",
              "    </tr>\n",
              "    <tr>\n",
              "      <th>3</th>\n",
              "      <td>1</td>\n",
              "      <td>1</td>\n",
              "      <td>0</td>\n",
              "      <td>1</td>\n",
              "      <td>0</td>\n",
              "      <td>2583</td>\n",
              "      <td>2358.0</td>\n",
              "      <td>120.000000</td>\n",
              "      <td>360.0</td>\n",
              "      <td>1.0</td>\n",
              "      <td>2</td>\n",
              "      <td>1</td>\n",
              "    </tr>\n",
              "    <tr>\n",
              "      <th>4</th>\n",
              "      <td>1</td>\n",
              "      <td>0</td>\n",
              "      <td>0</td>\n",
              "      <td>0</td>\n",
              "      <td>0</td>\n",
              "      <td>6000</td>\n",
              "      <td>0.0</td>\n",
              "      <td>141.000000</td>\n",
              "      <td>360.0</td>\n",
              "      <td>1.0</td>\n",
              "      <td>2</td>\n",
              "      <td>1</td>\n",
              "    </tr>\n",
              "  </tbody>\n",
              "</table>\n",
              "</div>"
            ],
            "text/plain": [
              "   Gender  Married  Dependents  ...  Credit_History  Property_Area  Loan_Status\n",
              "0       1        0           0  ...             1.0              2            1\n",
              "1       1        1           1  ...             1.0              0            0\n",
              "2       1        1           0  ...             1.0              2            1\n",
              "3       1        1           0  ...             1.0              2            1\n",
              "4       1        0           0  ...             1.0              2            1\n",
              "\n",
              "[5 rows x 12 columns]"
            ]
          },
          "metadata": {
            "tags": []
          },
          "execution_count": 15
        }
      ]
    },
    {
      "cell_type": "code",
      "metadata": {
        "id": "HEs3FdOV-TYx"
      },
      "source": [
        "X=df.drop(\"Loan_Status\",axis=1)\r\n",
        "y=df[\"Loan_Status\"]"
      ],
      "execution_count": 16,
      "outputs": []
    },
    {
      "cell_type": "code",
      "metadata": {
        "id": "lseglFgF4eRj"
      },
      "source": [
        "from sklearn.model_selection import train_test_split"
      ],
      "execution_count": 17,
      "outputs": []
    },
    {
      "cell_type": "code",
      "metadata": {
        "id": "QWouVweX46q3"
      },
      "source": [
        "X_train, X_test, y_train, y_test=train_test_split(X,y,stratify=df[\"Loan_Status\"],test_size=0.2)"
      ],
      "execution_count": 18,
      "outputs": []
    },
    {
      "cell_type": "markdown",
      "metadata": {
        "id": "qYR5jVW9VOhB"
      },
      "source": [
        "### Computation"
      ]
    },
    {
      "cell_type": "code",
      "metadata": {
        "id": "JpT5W9Vh8DPb"
      },
      "source": [
        "import keras"
      ],
      "execution_count": 20,
      "outputs": []
    },
    {
      "cell_type": "code",
      "metadata": {
        "id": "g41BRQBc8JAe"
      },
      "source": [
        "import tensorflow as tf"
      ],
      "execution_count": 1,
      "outputs": []
    },
    {
      "cell_type": "code",
      "metadata": {
        "id": "82CN0YzrL0_y"
      },
      "source": [
        "from keras.models import Sequential"
      ],
      "execution_count": 19,
      "outputs": []
    },
    {
      "cell_type": "code",
      "metadata": {
        "id": "aHPvF7bHMNVg"
      },
      "source": [
        "from keras.layers import InputLayer, Dense"
      ],
      "execution_count": 20,
      "outputs": []
    },
    {
      "cell_type": "code",
      "metadata": {
        "id": "VUASCyIeMfIo"
      },
      "source": [
        "#Calculation of neurons: The number of features we have in the dataset=No. of neurons\r\n",
        "input_neurons=X_train.shape[1] #here 1 specifies column"
      ],
      "execution_count": 23,
      "outputs": []
    },
    {
      "cell_type": "code",
      "metadata": {
        "colab": {
          "base_uri": "https://localhost:8080/"
        },
        "id": "x7i5kegPNhsw",
        "outputId": "102402f0-567f-4344-ad72-66053b35c637"
      },
      "source": [
        "print(input_neurons)"
      ],
      "execution_count": 24,
      "outputs": [
        {
          "output_type": "stream",
          "text": [
            "11\n"
          ],
          "name": "stdout"
        }
      ]
    },
    {
      "cell_type": "code",
      "metadata": {
        "id": "WUreWw29NsEY"
      },
      "source": [
        "#This is a binary classification problem, so the number of output neurons=1\r\n",
        "output_neurons=1"
      ],
      "execution_count": 25,
      "outputs": []
    },
    {
      "cell_type": "code",
      "metadata": {
        "id": "VGRMNpuVOEop"
      },
      "source": [
        "#Defining hidden layers is arbitrary \r\n",
        "number_of_hidden_layers=2\r\n",
        "neurons_hidden_layer_1=10\r\n",
        "neurons_hiddent_layer_2=5"
      ],
      "execution_count": 26,
      "outputs": []
    },
    {
      "cell_type": "code",
      "metadata": {
        "id": "H2VaUAw5OYDY"
      },
      "source": [
        "model=Sequential()\r\n",
        "model.add(InputLayer(input_shape=(input_neurons)))"
      ],
      "execution_count": 27,
      "outputs": []
    },
    {
      "cell_type": "code",
      "metadata": {
        "id": "9iPhr8bAPNCp"
      },
      "source": [
        "model.add(Dense(units=neurons_hidden_layer_1,activation=\"relu\"))\r\n",
        "model.add(Dense(units=neurons_hiddent_layer_2, activation=\"relu\"))\r\n",
        "model.add(Dense(units=output_neurons,activation=\"sigmoid\"))"
      ],
      "execution_count": 29,
      "outputs": []
    },
    {
      "cell_type": "code",
      "metadata": {
        "colab": {
          "base_uri": "https://localhost:8080/"
        },
        "id": "Km5WlA9vPoHq",
        "outputId": "87055025-284f-450c-864f-22cbf663edf0"
      },
      "source": [
        "model.summary()"
      ],
      "execution_count": 30,
      "outputs": [
        {
          "output_type": "stream",
          "text": [
            "Model: \"sequential\"\n",
            "_________________________________________________________________\n",
            "Layer (type)                 Output Shape              Param #   \n",
            "=================================================================\n",
            "dense (Dense)                (None, 10)                120       \n",
            "_________________________________________________________________\n",
            "dense_1 (Dense)              (None, 5)                 55        \n",
            "_________________________________________________________________\n",
            "dense_2 (Dense)              (None, 1)                 6         \n",
            "=================================================================\n",
            "Total params: 181\n",
            "Trainable params: 181\n",
            "Non-trainable params: 0\n",
            "_________________________________________________________________\n"
          ],
          "name": "stdout"
        }
      ]
    },
    {
      "cell_type": "code",
      "metadata": {
        "id": "GpTnOqLLP-45"
      },
      "source": [
        "#Compiling the model\r\n",
        "model.compile(optimizer=\"Adam\",loss=\"binary_crossentropy\",metrics=['accuracy'])"
      ],
      "execution_count": 31,
      "outputs": []
    },
    {
      "cell_type": "code",
      "metadata": {
        "colab": {
          "base_uri": "https://localhost:8080/"
        },
        "id": "lyxLYvGeRS9x",
        "outputId": "ec6dd12b-5360-4b92-81ac-3ece28ac7ca2"
      },
      "source": [
        "model_history=model.fit(X_train,y_train, validation_data=(X_test,y_test),epochs=50)"
      ],
      "execution_count": 35,
      "outputs": [
        {
          "output_type": "stream",
          "text": [
            "Epoch 1/50\n",
            "16/16 [==============================] - 0s 7ms/step - loss: 726.0268 - accuracy: 0.3136 - val_loss: 540.9363 - val_accuracy: 0.3089\n",
            "Epoch 2/50\n",
            "16/16 [==============================] - 0s 3ms/step - loss: 444.8189 - accuracy: 0.3136 - val_loss: 343.1503 - val_accuracy: 0.3089\n",
            "Epoch 3/50\n",
            "16/16 [==============================] - 0s 3ms/step - loss: 199.2775 - accuracy: 0.3809 - val_loss: 89.4367 - val_accuracy: 0.4715\n",
            "Epoch 4/50\n",
            "16/16 [==============================] - 0s 3ms/step - loss: 53.0572 - accuracy: 0.6273 - val_loss: 58.4189 - val_accuracy: 0.6667\n",
            "Epoch 5/50\n",
            "16/16 [==============================] - 0s 3ms/step - loss: 44.4709 - accuracy: 0.6619 - val_loss: 49.9713 - val_accuracy: 0.5772\n",
            "Epoch 6/50\n",
            "16/16 [==============================] - 0s 3ms/step - loss: 38.6967 - accuracy: 0.6273 - val_loss: 45.3352 - val_accuracy: 0.6098\n",
            "Epoch 7/50\n",
            "16/16 [==============================] - 0s 4ms/step - loss: 35.4271 - accuracy: 0.6456 - val_loss: 41.6804 - val_accuracy: 0.6098\n",
            "Epoch 8/50\n",
            "16/16 [==============================] - 0s 4ms/step - loss: 33.5359 - accuracy: 0.6497 - val_loss: 38.2714 - val_accuracy: 0.6098\n",
            "Epoch 9/50\n",
            "16/16 [==============================] - 0s 4ms/step - loss: 30.8459 - accuracy: 0.6232 - val_loss: 34.7117 - val_accuracy: 0.6260\n",
            "Epoch 10/50\n",
            "16/16 [==============================] - 0s 4ms/step - loss: 28.4648 - accuracy: 0.6415 - val_loss: 32.1400 - val_accuracy: 0.6260\n",
            "Epoch 11/50\n",
            "16/16 [==============================] - 0s 4ms/step - loss: 25.8504 - accuracy: 0.6497 - val_loss: 28.5235 - val_accuracy: 0.6179\n",
            "Epoch 12/50\n",
            "16/16 [==============================] - 0s 4ms/step - loss: 23.5955 - accuracy: 0.6314 - val_loss: 26.0059 - val_accuracy: 0.6098\n",
            "Epoch 13/50\n",
            "16/16 [==============================] - 0s 4ms/step - loss: 20.9495 - accuracy: 0.6436 - val_loss: 22.9101 - val_accuracy: 0.6179\n",
            "Epoch 14/50\n",
            "16/16 [==============================] - 0s 4ms/step - loss: 19.2954 - accuracy: 0.6334 - val_loss: 21.8991 - val_accuracy: 0.5447\n",
            "Epoch 15/50\n",
            "16/16 [==============================] - 0s 4ms/step - loss: 17.6527 - accuracy: 0.6232 - val_loss: 18.3448 - val_accuracy: 0.6016\n",
            "Epoch 16/50\n",
            "16/16 [==============================] - 0s 4ms/step - loss: 15.3844 - accuracy: 0.6212 - val_loss: 16.4584 - val_accuracy: 0.6016\n",
            "Epoch 17/50\n",
            "16/16 [==============================] - 0s 4ms/step - loss: 14.7596 - accuracy: 0.6232 - val_loss: 15.9834 - val_accuracy: 0.5772\n",
            "Epoch 18/50\n",
            "16/16 [==============================] - 0s 4ms/step - loss: 13.8452 - accuracy: 0.6456 - val_loss: 14.0512 - val_accuracy: 0.6098\n",
            "Epoch 19/50\n",
            "16/16 [==============================] - 0s 5ms/step - loss: 12.6121 - accuracy: 0.6171 - val_loss: 12.3151 - val_accuracy: 0.6341\n",
            "Epoch 20/50\n",
            "16/16 [==============================] - 0s 4ms/step - loss: 12.1308 - accuracy: 0.6314 - val_loss: 12.3132 - val_accuracy: 0.5935\n",
            "Epoch 21/50\n",
            "16/16 [==============================] - 0s 5ms/step - loss: 12.1605 - accuracy: 0.6293 - val_loss: 14.4251 - val_accuracy: 0.4715\n",
            "Epoch 22/50\n",
            "16/16 [==============================] - 0s 4ms/step - loss: 11.0491 - accuracy: 0.6395 - val_loss: 10.9533 - val_accuracy: 0.5935\n",
            "Epoch 23/50\n",
            "16/16 [==============================] - 0s 4ms/step - loss: 9.9568 - accuracy: 0.6375 - val_loss: 10.3021 - val_accuracy: 0.5854\n",
            "Epoch 24/50\n",
            "16/16 [==============================] - 0s 4ms/step - loss: 10.3457 - accuracy: 0.6314 - val_loss: 9.0759 - val_accuracy: 0.6260\n",
            "Epoch 25/50\n",
            "16/16 [==============================] - 0s 4ms/step - loss: 10.0320 - accuracy: 0.6110 - val_loss: 12.1959 - val_accuracy: 0.4472\n",
            "Epoch 26/50\n",
            "16/16 [==============================] - 0s 4ms/step - loss: 9.1324 - accuracy: 0.6029 - val_loss: 10.0299 - val_accuracy: 0.5366\n",
            "Epoch 27/50\n",
            "16/16 [==============================] - 0s 4ms/step - loss: 8.2633 - accuracy: 0.6253 - val_loss: 7.6286 - val_accuracy: 0.6341\n",
            "Epoch 28/50\n",
            "16/16 [==============================] - 0s 5ms/step - loss: 7.6687 - accuracy: 0.6171 - val_loss: 7.8571 - val_accuracy: 0.6667\n",
            "Epoch 29/50\n",
            "16/16 [==============================] - 0s 4ms/step - loss: 7.0259 - accuracy: 0.6354 - val_loss: 7.4053 - val_accuracy: 0.5528\n",
            "Epoch 30/50\n",
            "16/16 [==============================] - 0s 4ms/step - loss: 7.1305 - accuracy: 0.6130 - val_loss: 6.9104 - val_accuracy: 0.6667\n",
            "Epoch 31/50\n",
            "16/16 [==============================] - 0s 4ms/step - loss: 6.7696 - accuracy: 0.6517 - val_loss: 8.2791 - val_accuracy: 0.4390\n",
            "Epoch 32/50\n",
            "16/16 [==============================] - 0s 4ms/step - loss: 6.2131 - accuracy: 0.6049 - val_loss: 5.7387 - val_accuracy: 0.5935\n",
            "Epoch 33/50\n",
            "16/16 [==============================] - 0s 4ms/step - loss: 6.3755 - accuracy: 0.6090 - val_loss: 8.0818 - val_accuracy: 0.3740\n",
            "Epoch 34/50\n",
            "16/16 [==============================] - 0s 4ms/step - loss: 7.4458 - accuracy: 0.5519 - val_loss: 6.6705 - val_accuracy: 0.6829\n",
            "Epoch 35/50\n",
            "16/16 [==============================] - 0s 5ms/step - loss: 7.8806 - accuracy: 0.6212 - val_loss: 7.2892 - val_accuracy: 0.6911\n",
            "Epoch 36/50\n",
            "16/16 [==============================] - 0s 5ms/step - loss: 6.3157 - accuracy: 0.5967 - val_loss: 5.6676 - val_accuracy: 0.4634\n",
            "Epoch 37/50\n",
            "16/16 [==============================] - 0s 4ms/step - loss: 5.2058 - accuracy: 0.5866 - val_loss: 4.9671 - val_accuracy: 0.5691\n",
            "Epoch 38/50\n",
            "16/16 [==============================] - 0s 4ms/step - loss: 5.4826 - accuracy: 0.5621 - val_loss: 4.8223 - val_accuracy: 0.6179\n",
            "Epoch 39/50\n",
            "16/16 [==============================] - 0s 4ms/step - loss: 5.3893 - accuracy: 0.5438 - val_loss: 5.8505 - val_accuracy: 0.6992\n",
            "Epoch 40/50\n",
            "16/16 [==============================] - 0s 4ms/step - loss: 5.3325 - accuracy: 0.5560 - val_loss: 4.4027 - val_accuracy: 0.6341\n",
            "Epoch 41/50\n",
            "16/16 [==============================] - 0s 4ms/step - loss: 4.6843 - accuracy: 0.5621 - val_loss: 4.4509 - val_accuracy: 0.6667\n",
            "Epoch 42/50\n",
            "16/16 [==============================] - 0s 5ms/step - loss: 5.1391 - accuracy: 0.5825 - val_loss: 4.2084 - val_accuracy: 0.5854\n",
            "Epoch 43/50\n",
            "16/16 [==============================] - 0s 4ms/step - loss: 4.4741 - accuracy: 0.6375 - val_loss: 6.6881 - val_accuracy: 0.3821\n",
            "Epoch 44/50\n",
            "16/16 [==============================] - 0s 4ms/step - loss: 5.2489 - accuracy: 0.5540 - val_loss: 4.2538 - val_accuracy: 0.6585\n",
            "Epoch 45/50\n",
            "16/16 [==============================] - 0s 4ms/step - loss: 5.8903 - accuracy: 0.5723 - val_loss: 4.0123 - val_accuracy: 0.6504\n",
            "Epoch 46/50\n",
            "16/16 [==============================] - 0s 4ms/step - loss: 4.6205 - accuracy: 0.6069 - val_loss: 3.6393 - val_accuracy: 0.6423\n",
            "Epoch 47/50\n",
            "16/16 [==============================] - 0s 4ms/step - loss: 4.1475 - accuracy: 0.6130 - val_loss: 4.8960 - val_accuracy: 0.3902\n",
            "Epoch 48/50\n",
            "16/16 [==============================] - 0s 4ms/step - loss: 4.1135 - accuracy: 0.5988 - val_loss: 3.5532 - val_accuracy: 0.5041\n",
            "Epoch 49/50\n",
            "16/16 [==============================] - 0s 4ms/step - loss: 3.8258 - accuracy: 0.5947 - val_loss: 3.4941 - val_accuracy: 0.6667\n",
            "Epoch 50/50\n",
            "16/16 [==============================] - 0s 4ms/step - loss: 4.4435 - accuracy: 0.5540 - val_loss: 3.7948 - val_accuracy: 0.6829\n"
          ],
          "name": "stdout"
        }
      ]
    },
    {
      "cell_type": "code",
      "metadata": {
        "colab": {
          "base_uri": "https://localhost:8080/"
        },
        "id": "r97ViwpNR8JR",
        "outputId": "c51135e3-1b9f-43cc-acf1-cb9881994b20"
      },
      "source": [
        "from sklearn.metrics import accuracy_score\r\n",
        "predictions=model.predict_classes(X_test)\r\n",
        "accuracy_score(y_test,predictions)"
      ],
      "execution_count": 37,
      "outputs": [
        {
          "output_type": "stream",
          "text": [
            "/usr/local/lib/python3.6/dist-packages/tensorflow/python/keras/engine/sequential.py:450: UserWarning: `model.predict_classes()` is deprecated and will be removed after 2021-01-01. Please use instead:* `np.argmax(model.predict(x), axis=-1)`,   if your model does multi-class classification   (e.g. if it uses a `softmax` last-layer activation).* `(model.predict(x) > 0.5).astype(\"int32\")`,   if your model does binary classification   (e.g. if it uses a `sigmoid` last-layer activation).\n",
            "  warnings.warn('`model.predict_classes()` is deprecated and '\n"
          ],
          "name": "stderr"
        },
        {
          "output_type": "execute_result",
          "data": {
            "text/plain": [
              "0.6829268292682927"
            ]
          },
          "metadata": {
            "tags": []
          },
          "execution_count": 37
        }
      ]
    },
    {
      "cell_type": "code",
      "metadata": {
        "id": "sgng0kLHS-dS"
      },
      "source": [
        "import matplotlib.pyplot as plt\r\n",
        "%matplotlib inline"
      ],
      "execution_count": 41,
      "outputs": []
    },
    {
      "cell_type": "code",
      "metadata": {
        "colab": {
          "base_uri": "https://localhost:8080/",
          "height": 663
        },
        "id": "gFLkdwz4Vmb7",
        "outputId": "e09c0456-d900-4ebf-b479-6be28aa64452"
      },
      "source": [
        "#Summarizing history for loss\r\n",
        "plt.plot(model_history.history['loss'])\r\n",
        "plt.plot(model_history.history['val_loss'])\r\n",
        "plt.xlabel(\"Number of Epochs\")\r\n",
        "plt.ylabel(\"Loss\")\r\n",
        "plt.legend(\"train\",\"validation\",loc='upper left')"
      ],
      "execution_count": 46,
      "outputs": [
        {
          "output_type": "stream",
          "text": [
            "/usr/local/lib/python3.6/dist-packages/ipykernel_launcher.py:5: UserWarning: Legend does not support 't' instances.\n",
            "A proxy artist may be used instead.\n",
            "See: http://matplotlib.org/users/legend_guide.html#creating-artists-specifically-for-adding-to-the-legend-aka-proxy-artists\n",
            "  \"\"\"\n",
            "/usr/local/lib/python3.6/dist-packages/ipykernel_launcher.py:5: UserWarning: Legend does not support 'r' instances.\n",
            "A proxy artist may be used instead.\n",
            "See: http://matplotlib.org/users/legend_guide.html#creating-artists-specifically-for-adding-to-the-legend-aka-proxy-artists\n",
            "  \"\"\"\n",
            "/usr/local/lib/python3.6/dist-packages/ipykernel_launcher.py:5: UserWarning: Legend does not support 'a' instances.\n",
            "A proxy artist may be used instead.\n",
            "See: http://matplotlib.org/users/legend_guide.html#creating-artists-specifically-for-adding-to-the-legend-aka-proxy-artists\n",
            "  \"\"\"\n",
            "/usr/local/lib/python3.6/dist-packages/ipykernel_launcher.py:5: UserWarning: Legend does not support 'i' instances.\n",
            "A proxy artist may be used instead.\n",
            "See: http://matplotlib.org/users/legend_guide.html#creating-artists-specifically-for-adding-to-the-legend-aka-proxy-artists\n",
            "  \"\"\"\n",
            "/usr/local/lib/python3.6/dist-packages/ipykernel_launcher.py:5: UserWarning: Legend does not support 'n' instances.\n",
            "A proxy artist may be used instead.\n",
            "See: http://matplotlib.org/users/legend_guide.html#creating-artists-specifically-for-adding-to-the-legend-aka-proxy-artists\n",
            "  \"\"\"\n"
          ],
          "name": "stderr"
        },
        {
          "output_type": "execute_result",
          "data": {
            "text/plain": [
              "<matplotlib.legend.Legend at 0x7f3925a5bd68>"
            ]
          },
          "metadata": {
            "tags": []
          },
          "execution_count": 46
        },
        {
          "output_type": "display_data",
          "data": {
            "image/png": "[encoded data removed]",
            "text/plain": [
              "<Figure size 432x288 with 1 Axes>"
            ]
          },
          "metadata": {
            "tags": [],
            "needs_background": "light"
          }
        }
      ]
    },
    {
      "cell_type": "code",
      "metadata": {
        "colab": {
          "base_uri": "https://localhost:8080/",
          "height": 646
        },
        "id": "YRP9teUpWH66",
        "outputId": "853a298a-2069-4359-c77f-b07e4252ba15"
      },
      "source": [
        "#Summarizing history for accuracy\r\n",
        "plt.plot(model_history.history[\"accuracy\"])\r\n",
        "plt.plot(model_history.history[\"val_accuracy\"])\r\n",
        "plt.xlabel(\"Number of epochs\")\r\n",
        "plt.ylabel(\"Accuracy\")\r\n",
        "plt.legend('train','validation',loc='upper left')\r\n",
        "plt.show()"
      ],
      "execution_count": 49,
      "outputs": [
        {
          "output_type": "stream",
          "text": [
            "/usr/local/lib/python3.6/dist-packages/ipykernel_launcher.py:6: UserWarning: Legend does not support 't' instances.\n",
            "A proxy artist may be used instead.\n",
            "See: http://matplotlib.org/users/legend_guide.html#creating-artists-specifically-for-adding-to-the-legend-aka-proxy-artists\n",
            "  \n",
            "/usr/local/lib/python3.6/dist-packages/ipykernel_launcher.py:6: UserWarning: Legend does not support 'r' instances.\n",
            "A proxy artist may be used instead.\n",
            "See: http://matplotlib.org/users/legend_guide.html#creating-artists-specifically-for-adding-to-the-legend-aka-proxy-artists\n",
            "  \n",
            "/usr/local/lib/python3.6/dist-packages/ipykernel_launcher.py:6: UserWarning: Legend does not support 'a' instances.\n",
            "A proxy artist may be used instead.\n",
            "See: http://matplotlib.org/users/legend_guide.html#creating-artists-specifically-for-adding-to-the-legend-aka-proxy-artists\n",
            "  \n",
            "/usr/local/lib/python3.6/dist-packages/ipykernel_launcher.py:6: UserWarning: Legend does not support 'i' instances.\n",
            "A proxy artist may be used instead.\n",
            "See: http://matplotlib.org/users/legend_guide.html#creating-artists-specifically-for-adding-to-the-legend-aka-proxy-artists\n",
            "  \n",
            "/usr/local/lib/python3.6/dist-packages/ipykernel_launcher.py:6: UserWarning: Legend does not support 'n' instances.\n",
            "A proxy artist may be used instead.\n",
            "See: http://matplotlib.org/users/legend_guide.html#creating-artists-specifically-for-adding-to-the-legend-aka-proxy-artists\n",
            "  \n"
          ],
          "name": "stderr"
        },
        {
          "output_type": "display_data",
          "data": {
            "image/png": "[encoded data removed]",
            "text/plain": [
              "<Figure size 432x288 with 1 Axes>"
            ]
          },
          "metadata": {
            "tags": [],
            "needs_background": "light"
          }
        }
      ]
    }
  ]
}