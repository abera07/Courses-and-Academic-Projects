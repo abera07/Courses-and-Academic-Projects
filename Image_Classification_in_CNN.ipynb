{
  "nbformat": 4,
  "nbformat_minor": 0,
  "metadata": {
    "colab": {
      "name": "Image Classification in CNN.ipynb",
      "provenance": [],
      "collapsed_sections": [],
      "machine_shape": "hm"
    },
    "kernelspec": {
      "name": "python3",
      "display_name": "Python 3"
    },
    "language_info": {
      "name": "python"
    },
    "accelerator": "GPU"
  },
  "cells": [
    {
      "cell_type": "code",
      "metadata": {
        "id": "zVRT5L9e-yrm"
      },
      "source": [
        "#Importing all the required libraries\n",
        "\n",
        "import pandas as pd \n",
        "import numpy as np\n",
        "from sklearn.model_selection import train_test_split\n",
        "from keras.models import Sequential\n",
        "from keras.layers import InputLayer, Dense, Conv2D, MaxPool2D, Flatten, BatchNormalization, Dropout\n",
        "from tensorflow.keras.optimizers import Adam \n",
        "import matplotlib.pyplot as plt"
      ],
      "execution_count": 1,
      "outputs": []
    },
    {
      "cell_type": "code",
      "metadata": {
        "colab": {
          "base_uri": "https://localhost:8080/"
        },
        "id": "2rVCgEmgAl8S",
        "outputId": "0ad9bcdc-a753-4c14-e342-3fc89632bdd6"
      },
      "source": [
        "from google.colab import drive\n",
        "drive.mount('/content/gdrive')"
      ],
      "execution_count": 2,
      "outputs": [
        {
          "output_type": "stream",
          "name": "stdout",
          "text": [
            "Drive already mounted at /content/gdrive; to attempt to forcibly remount, call drive.mount(\"/content/gdrive\", force_remount=True).\n"
          ]
        }
      ]
    },
    {
      "cell_type": "code",
      "metadata": {
        "id": "JQgwiRrSAfLw"
      },
      "source": [
        "df=pd.read_csv(r'/content/gdrive/MyDrive/Analytics Vidhya/Image Classification/Dataset_Emergency_Vehicle/emergency_classification.csv')"
      ],
      "execution_count": 3,
      "outputs": []
    },
    {
      "cell_type": "code",
      "metadata": {
        "colab": {
          "base_uri": "https://localhost:8080/",
          "height": 206
        },
        "id": "iGWMmS8dA2N4",
        "outputId": "10901786-5e11-4f1f-a8a9-64557568b81b"
      },
      "source": [
        "df.head()"
      ],
      "execution_count": 4,
      "outputs": [
        {
          "output_type": "execute_result",
          "data": {
            "text/html": [
              "<div>\n",
              "<style scoped>\n",
              "    .dataframe tbody tr th:only-of-type {\n",
              "        vertical-align: middle;\n",
              "    }\n",
              "\n",
              "    .dataframe tbody tr th {\n",
              "        vertical-align: top;\n",
              "    }\n",
              "\n",
              "    .dataframe thead th {\n",
              "        text-align: right;\n",
              "    }\n",
              "</style>\n",
              "<table border=\"1\" class=\"dataframe\">\n",
              "  <thead>\n",
              "    <tr style=\"text-align: right;\">\n",
              "      <th></th>\n",
              "      <th>image_names</th>\n",
              "      <th>emergency_or_not</th>\n",
              "    </tr>\n",
              "  </thead>\n",
              "  <tbody>\n",
              "    <tr>\n",
              "      <th>0</th>\n",
              "      <td>0.jpg</td>\n",
              "      <td>1</td>\n",
              "    </tr>\n",
              "    <tr>\n",
              "      <th>1</th>\n",
              "      <td>1.jpg</td>\n",
              "      <td>1</td>\n",
              "    </tr>\n",
              "    <tr>\n",
              "      <th>2</th>\n",
              "      <td>2.jpg</td>\n",
              "      <td>1</td>\n",
              "    </tr>\n",
              "    <tr>\n",
              "      <th>3</th>\n",
              "      <td>3.jpg</td>\n",
              "      <td>1</td>\n",
              "    </tr>\n",
              "    <tr>\n",
              "      <th>4</th>\n",
              "      <td>4.jpg</td>\n",
              "      <td>1</td>\n",
              "    </tr>\n",
              "  </tbody>\n",
              "</table>\n",
              "</div>"
            ],
            "text/plain": [
              "  image_names  emergency_or_not\n",
              "0       0.jpg                 1\n",
              "1       1.jpg                 1\n",
              "2       2.jpg                 1\n",
              "3       3.jpg                 1\n",
              "4       4.jpg                 1"
            ]
          },
          "metadata": {},
          "execution_count": 4
        }
      ]
    },
    {
      "cell_type": "code",
      "metadata": {
        "colab": {
          "base_uri": "https://localhost:8080/"
        },
        "id": "U5bgh4nYA9EQ",
        "outputId": "17d75ad6-9fb4-401f-b06a-bb396d680fbb"
      },
      "source": [
        "from tqdm import tqdm\n",
        "X=[]\n",
        "\n",
        "for img in tqdm(df['image_names'].values):\n",
        "  i=plt.imread(r'/content/gdrive/MyDrive/Analytics Vidhya/Image Classification/Dataset_Emergency_Vehicle/images/'+img)\n",
        "  X.append(i)"
      ],
      "execution_count": 5,
      "outputs": [
        {
          "output_type": "stream",
          "name": "stderr",
          "text": [
            "100%|██████████| 2352/2352 [14:17<00:00,  2.74it/s]\n"
          ]
        }
      ]
    },
    {
      "cell_type": "code",
      "metadata": {
        "id": "EG_1G4qmBVa6"
      },
      "source": [
        "X=np.array(X)"
      ],
      "execution_count": 6,
      "outputs": []
    },
    {
      "cell_type": "code",
      "metadata": {
        "id": "neYt1ATqBg66"
      },
      "source": [
        "#Scaling\n",
        "X=X/X.max()"
      ],
      "execution_count": 7,
      "outputs": []
    },
    {
      "cell_type": "code",
      "metadata": {
        "colab": {
          "base_uri": "https://localhost:8080/"
        },
        "id": "NkqFF6VESP-0",
        "outputId": "e4cc722a-6784-455f-a4c4-bcfb57f85f94"
      },
      "source": [
        "X.shape"
      ],
      "execution_count": 8,
      "outputs": [
        {
          "output_type": "execute_result",
          "data": {
            "text/plain": [
              "(2352, 224, 224, 3)"
            ]
          },
          "metadata": {},
          "execution_count": 8
        }
      ]
    },
    {
      "cell_type": "code",
      "metadata": {
        "id": "4U1SqNcFBglL"
      },
      "source": [
        "y=np.array(df.emergency_or_not.values)"
      ],
      "execution_count": 9,
      "outputs": []
    },
    {
      "cell_type": "code",
      "metadata": {
        "colab": {
          "base_uri": "https://localhost:8080/"
        },
        "id": "wZNE88BESOG1",
        "outputId": "dba1b127-1c7d-460f-fa07-438238dbee44"
      },
      "source": [
        "y.shape"
      ],
      "execution_count": 10,
      "outputs": [
        {
          "output_type": "execute_result",
          "data": {
            "text/plain": [
              "(2352,)"
            ]
          },
          "metadata": {},
          "execution_count": 10
        }
      ]
    },
    {
      "cell_type": "code",
      "metadata": {
        "id": "lgl9t-PJGuln"
      },
      "source": [
        "X_train,X_val,y_train,y_val=train_test_split(X,y,test_size=0.30,random_state=81)"
      ],
      "execution_count": 11,
      "outputs": []
    },
    {
      "cell_type": "code",
      "metadata": {
        "colab": {
          "base_uri": "https://localhost:8080/"
        },
        "id": "U2dLBwkk4yy5",
        "outputId": "9299e41d-90f0-4050-c9ed-51c4dac644eb"
      },
      "source": [
        "y_train.shape"
      ],
      "execution_count": 12,
      "outputs": [
        {
          "output_type": "execute_result",
          "data": {
            "text/plain": [
              "(1646,)"
            ]
          },
          "metadata": {},
          "execution_count": 12
        }
      ]
    },
    {
      "cell_type": "code",
      "metadata": {
        "colab": {
          "base_uri": "https://localhost:8080/"
        },
        "id": "7S1-6GfW5KDH",
        "outputId": "fa129633-c334-417c-a003-b795c5b743c3"
      },
      "source": [
        "X_train.shape"
      ],
      "execution_count": 13,
      "outputs": [
        {
          "output_type": "execute_result",
          "data": {
            "text/plain": [
              "(1646, 224, 224, 3)"
            ]
          },
          "metadata": {},
          "execution_count": 13
        }
      ]
    },
    {
      "cell_type": "markdown",
      "metadata": {
        "id": "8N95ylOnHyb3"
      },
      "source": [
        "## Model architecture"
      ]
    },
    {
      "cell_type": "code",
      "metadata": {
        "id": "3WEiUglZHZ1a"
      },
      "source": [
        "model=Sequential()\n",
        "model.add(InputLayer(input_shape=(224,224,3)))\n",
        "model.add(Conv2D(50,(5,5),activation='relu',strides=(1,1),padding='valid'))\n",
        "model.add(MaxPool2D(pool_size=(2,2),padding='valid'))\n",
        "model.add(Conv2D(50,(5,5), activation='relu',padding='valid',strides=(1,1)))\n",
        "model.add(MaxPool2D(pool_size=(4,4),padding='valid'))\n",
        "model.add(Flatten())\n",
        "model.add(Dense(100,activation='relu'))\n",
        "model.add(BatchNormalization())\n",
        "model.add(Dropout(0.4))\n",
        "model.add(Dense(100,activation='relu'))\n",
        "model.add(BatchNormalization())\n",
        "model.add(Dropout(0.5))\n",
        "model.add(Dense(1,activation='sigmoid'))"
      ],
      "execution_count": 20,
      "outputs": []
    },
    {
      "cell_type": "code",
      "metadata": {
        "colab": {
          "base_uri": "https://localhost:8080/"
        },
        "id": "jfWJikHdLSkW",
        "outputId": "19fee70c-7860-4702-e42a-80190312d37f"
      },
      "source": [
        "model.summary()"
      ],
      "execution_count": 21,
      "outputs": [
        {
          "output_type": "stream",
          "name": "stdout",
          "text": [
            "Model: \"sequential_1\"\n",
            "_________________________________________________________________\n",
            " Layer (type)                Output Shape              Param #   \n",
            "=================================================================\n",
            " conv2d_2 (Conv2D)           (None, 220, 220, 50)      3800      \n",
            "                                                                 \n",
            " max_pooling2d_2 (MaxPooling  (None, 110, 110, 50)     0         \n",
            " 2D)                                                             \n",
            "                                                                 \n",
            " conv2d_3 (Conv2D)           (None, 106, 106, 50)      62550     \n",
            "                                                                 \n",
            " max_pooling2d_3 (MaxPooling  (None, 26, 26, 50)       0         \n",
            " 2D)                                                             \n",
            "                                                                 \n",
            " flatten_1 (Flatten)         (None, 33800)             0         \n",
            "                                                                 \n",
            " dense_3 (Dense)             (None, 100)               3380100   \n",
            "                                                                 \n",
            " batch_normalization_2 (Batc  (None, 100)              400       \n",
            " hNormalization)                                                 \n",
            "                                                                 \n",
            " dropout (Dropout)           (None, 100)               0         \n",
            "                                                                 \n",
            " dense_4 (Dense)             (None, 100)               10100     \n",
            "                                                                 \n",
            " batch_normalization_3 (Batc  (None, 100)              400       \n",
            " hNormalization)                                                 \n",
            "                                                                 \n",
            " dropout_1 (Dropout)         (None, 100)               0         \n",
            "                                                                 \n",
            " dense_5 (Dense)             (None, 1)                 101       \n",
            "                                                                 \n",
            "=================================================================\n",
            "Total params: 3,457,451\n",
            "Trainable params: 3,457,051\n",
            "Non-trainable params: 400\n",
            "_________________________________________________________________\n"
          ]
        }
      ]
    },
    {
      "cell_type": "code",
      "metadata": {
        "colab": {
          "base_uri": "https://localhost:8080/"
        },
        "id": "-u3El4X3OAbZ",
        "outputId": "c2a01d18-d28f-4a69-adc4-80e71eb7461b"
      },
      "source": [
        "adam=Adam(lr=1e-5)"
      ],
      "execution_count": 22,
      "outputs": [
        {
          "output_type": "stream",
          "name": "stderr",
          "text": [
            "/usr/local/lib/python3.7/dist-packages/keras/optimizer_v2/adam.py:105: UserWarning: The `lr` argument is deprecated, use `learning_rate` instead.\n",
            "  super(Adam, self).__init__(name, **kwargs)\n"
          ]
        }
      ]
    },
    {
      "cell_type": "markdown",
      "metadata": {
        "id": "Vu_slftuNjxV"
      },
      "source": [
        "Model Compiling"
      ]
    },
    {
      "cell_type": "code",
      "metadata": {
        "id": "9CQ8BTXQNjMV"
      },
      "source": [
        "model.compile(loss='binary_crossentropy',optimizer='adam',metrics=['accuracy'])"
      ],
      "execution_count": 23,
      "outputs": []
    },
    {
      "cell_type": "markdown",
      "metadata": {
        "id": "hAw0pRsBNDXd"
      },
      "source": [
        "Model Checkpointing"
      ]
    },
    {
      "cell_type": "code",
      "metadata": {
        "id": "NBbIZD8IMy2-"
      },
      "source": [
        "from keras.callbacks import ModelCheckpoint, EarlyStopping\n",
        "filepath='best.hdf5'\n",
        "early=EarlyStopping(monitor='val_accuracy',min_delta=0.01,patience=10,mode='max')\n",
        "ck=ModelCheckpoint(filepath,monitor='val_accuracy',verbose=1,save_best_only=True,mode='max')\n",
        "cb_list=[ck,early]"
      ],
      "execution_count": 24,
      "outputs": []
    },
    {
      "cell_type": "code",
      "metadata": {
        "colab": {
          "base_uri": "https://localhost:8080/"
        },
        "id": "oUdu3e1jR6a7",
        "outputId": "4d00d1b3-f42a-4965-d098-cbcd2aa8c4e0"
      },
      "source": [
        "y_train.shape"
      ],
      "execution_count": 18,
      "outputs": [
        {
          "output_type": "execute_result",
          "data": {
            "text/plain": [
              "(1646,)"
            ]
          },
          "metadata": {},
          "execution_count": 18
        }
      ]
    },
    {
      "cell_type": "code",
      "metadata": {
        "colab": {
          "base_uri": "https://localhost:8080/"
        },
        "id": "M8vhs7RXR_vL",
        "outputId": "ff71b29e-c780-47bb-b96e-975cabfba135"
      },
      "source": [
        "X_train.shape"
      ],
      "execution_count": 25,
      "outputs": [
        {
          "output_type": "execute_result",
          "data": {
            "text/plain": [
              "(1646, 224, 224, 3)"
            ]
          },
          "metadata": {},
          "execution_count": 25
        }
      ]
    },
    {
      "cell_type": "code",
      "metadata": {
        "id": "QEOPZUYfPBLN",
        "colab": {
          "base_uri": "https://localhost:8080/"
        },
        "outputId": "d2730748-4fd9-4293-cf1b-3bacfa6f1ec9"
      },
      "source": [
        "model_history=model.fit(np.array(X_train),np.array(y_train),verbose=0, epochs=75, batch_size=128, validation_data=(X_val,y_val),callbacks=cb_list)"
      ],
      "execution_count": 26,
      "outputs": [
        {
          "output_type": "stream",
          "name": "stdout",
          "text": [
            "\n",
            "Epoch 00001: val_accuracy improved from -inf to 0.59915, saving model to best.hdf5\n",
            "\n",
            "Epoch 00002: val_accuracy improved from 0.59915 to 0.64873, saving model to best.hdf5\n",
            "\n",
            "Epoch 00003: val_accuracy improved from 0.64873 to 0.78329, saving model to best.hdf5\n",
            "\n",
            "Epoch 00004: val_accuracy did not improve from 0.78329\n",
            "\n",
            "Epoch 00005: val_accuracy did not improve from 0.78329\n",
            "\n",
            "Epoch 00006: val_accuracy did not improve from 0.78329\n",
            "\n",
            "Epoch 00007: val_accuracy did not improve from 0.78329\n",
            "\n",
            "Epoch 00008: val_accuracy improved from 0.78329 to 0.79745, saving model to best.hdf5\n",
            "\n",
            "Epoch 00009: val_accuracy did not improve from 0.79745\n",
            "\n",
            "Epoch 00010: val_accuracy did not improve from 0.79745\n",
            "\n",
            "Epoch 00011: val_accuracy improved from 0.79745 to 0.82011, saving model to best.hdf5\n",
            "\n",
            "Epoch 00012: val_accuracy did not improve from 0.82011\n",
            "\n",
            "Epoch 00013: val_accuracy did not improve from 0.82011\n",
            "\n",
            "Epoch 00014: val_accuracy did not improve from 0.82011\n",
            "\n",
            "Epoch 00015: val_accuracy did not improve from 0.82011\n",
            "\n",
            "Epoch 00016: val_accuracy did not improve from 0.82011\n",
            "\n",
            "Epoch 00017: val_accuracy did not improve from 0.82011\n",
            "\n",
            "Epoch 00018: val_accuracy improved from 0.82011 to 0.83853, saving model to best.hdf5\n",
            "\n",
            "Epoch 00019: val_accuracy did not improve from 0.83853\n",
            "\n",
            "Epoch 00020: val_accuracy did not improve from 0.83853\n",
            "\n",
            "Epoch 00021: val_accuracy did not improve from 0.83853\n",
            "\n",
            "Epoch 00022: val_accuracy did not improve from 0.83853\n",
            "\n",
            "Epoch 00023: val_accuracy improved from 0.83853 to 0.84986, saving model to best.hdf5\n",
            "\n",
            "Epoch 00024: val_accuracy did not improve from 0.84986\n",
            "\n",
            "Epoch 00025: val_accuracy did not improve from 0.84986\n",
            "\n",
            "Epoch 00026: val_accuracy did not improve from 0.84986\n",
            "\n",
            "Epoch 00027: val_accuracy improved from 0.84986 to 0.85411, saving model to best.hdf5\n",
            "\n",
            "Epoch 00028: val_accuracy improved from 0.85411 to 0.86119, saving model to best.hdf5\n",
            "\n",
            "Epoch 00029: val_accuracy did not improve from 0.86119\n",
            "\n",
            "Epoch 00030: val_accuracy did not improve from 0.86119\n",
            "\n",
            "Epoch 00031: val_accuracy did not improve from 0.86119\n",
            "\n",
            "Epoch 00032: val_accuracy did not improve from 0.86119\n",
            "\n",
            "Epoch 00033: val_accuracy did not improve from 0.86119\n",
            "\n",
            "Epoch 00034: val_accuracy did not improve from 0.86119\n",
            "\n",
            "Epoch 00035: val_accuracy did not improve from 0.86119\n",
            "\n",
            "Epoch 00036: val_accuracy did not improve from 0.86119\n",
            "\n",
            "Epoch 00037: val_accuracy did not improve from 0.86119\n",
            "\n",
            "Epoch 00038: val_accuracy did not improve from 0.86119\n"
          ]
        }
      ]
    },
    {
      "cell_type": "code",
      "metadata": {
        "colab": {
          "base_uri": "https://localhost:8080/"
        },
        "id": "bTpgJvLlqLIj",
        "outputId": "ff8c754d-1d45-4366-ce97-e07b0e1b3707"
      },
      "source": [
        "#Loading best model\n",
        "from sklearn.metrics import accuracy_score\n",
        "print(\"Accuracy=\", accuracy_score(y_val, (model.predict(X_val) > 0.5).astype(\"int32\")),\"%\")"
      ],
      "execution_count": 33,
      "outputs": [
        {
          "output_type": "stream",
          "name": "stdout",
          "text": [
            "Accuracy= 0.8555240793201133 %\n"
          ]
        }
      ]
    },
    {
      "cell_type": "markdown",
      "metadata": {
        "id": "lwl7NNWotFmS"
      },
      "source": [
        "Plotting Loss"
      ]
    },
    {
      "cell_type": "code",
      "metadata": {
        "colab": {
          "base_uri": "https://localhost:8080/",
          "height": 313
        },
        "id": "15YotMu3sQKS",
        "outputId": "4d3ba535-b40d-48b1-e096-210986ef7a8b"
      },
      "source": [
        "plt.plot(model_history.history['loss'])\n",
        "plt.plot(model_history.history['val_loss'])\n",
        "plt.title(\"Model Losses\")\n",
        "plt.ylabel('Loss')\n",
        "plt.xlabel('Number of Epochs')\n",
        "plt.legend(['train','validation'],loc='upper left')"
      ],
      "execution_count": 35,
      "outputs": [
        {
          "output_type": "execute_result",
          "data": {
            "text/plain": [
              "<matplotlib.legend.Legend at 0x7fc7d6861350>"
            ]
          },
          "metadata": {},
          "execution_count": 35
        },
        {
          "output_type": "display_data",
          "data": {
            "image/png": "[encoded data removed]",
            "text/plain": [
              "<Figure size 432x288 with 1 Axes>"
            ]
          },
          "metadata": {
            "needs_background": "light"
          }
        }
      ]
    },
    {
      "cell_type": "markdown",
      "metadata": {
        "id": "ly0RoxcItVOz"
      },
      "source": [
        "Plotting Accuracy"
      ]
    },
    {
      "cell_type": "code",
      "metadata": {
        "colab": {
          "base_uri": "https://localhost:8080/",
          "height": 313
        },
        "id": "uNVknj2ntHEC",
        "outputId": "494288d9-79d7-4fc3-f12e-154d44c3388f"
      },
      "source": [
        "plt.plot(model_history.history['accuracy'])\n",
        "plt.plot(model_history.history['val_accuracy'])\n",
        "plt.title(\"Model Accuracies\")\n",
        "plt.ylabel('Accuracy')\n",
        "plt.xlabel('Number of Epochs')\n",
        "plt.legend(['train','validation'],loc='upper left')"
      ],
      "execution_count": 36,
      "outputs": [
        {
          "output_type": "execute_result",
          "data": {
            "text/plain": [
              "<matplotlib.legend.Legend at 0x7fc7d47dd090>"
            ]
          },
          "metadata": {},
          "execution_count": 36
        },
        {
          "output_type": "display_data",
          "data": {
            "image/png": "[encoded data removed]",
            "text/plain": [
              "<Figure size 432x288 with 1 Axes>"
            ]
          },
          "metadata": {
            "needs_background": "light"
          }
        }
      ]
    }
  ]
}